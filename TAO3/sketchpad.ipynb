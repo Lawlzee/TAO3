{
 "cells": [
  {
   "cell_type": "code",
   "execution_count": null,
   "metadata": {
    "dotnet_interactive": {
     "language": "pwsh"
    }
   },
   "outputs": [],
   "source": [
    "C:\\Users\\Lawlzee\\Documents\\Projects\\Lawlzee\\TAO3\\TAO3\\TAO3\\build.ps1\r\n",
    "#!csharp\r\n",
    "#i C:\\Users\\Lawlzee\\Documents\\Projects\\Lawlzee\\TAO3\\TAO3\\TAO3\\bin\\Feed\r\n",
    "#r \"nuget:TAO3\"\r\n",
    "using static TAO3.Prelude;"
   ]
  },
  {
   "cell_type": "code",
   "execution_count": null,
   "metadata": {
    "dotnet_interactive": {
     "language": "csharp"
    }
   },
   "outputs": [],
   "source": [
    "#i C:\\Users\\Lawlzee\\Documents\\Projects\\Lawlzee\\TAO3\\TAO3\\TAO3\\bin\\Feed\r\n",
    "#r \"nuget:TAO3\"\r\n",
    "using static TAO3.Prelude;"
   ]
  },
  {
   "cell_type": "code",
   "execution_count": null,
   "metadata": {
    "dotnet_interactive": {
     "language": "csharp"
    }
   },
   "outputs": [],
   "source": [
    "#r nuget:System.Data.SqlClient\r\n",
    "#i C:\\Users\\Lawlzee\\Documents\\Projects\\Lawlzee\\TAO3\\TAO3\\TAO3\\bin\\Feed\r\n",
    "#r \"nuget:TAO3\"\r\n",
    "\r\n",
    "using static TAO3.Prelude;\r\n",
    "using System.Data.SqlClient;\r\n",
    "\r\n",
    "string connectionString = \"Server= localhost\\\\SQLEXPRESS; Database=TestDatabase; Integrated Security=True;\";\r\n",
    "string schemaQuery = @\"SELECT [EventType]\r\n",
    ",[SchemaName]\r\n",
    ",[ObjectName]\r\n",
    ",[ObjectType]\r\n",
    ",[EventDate]\r\n",
    ",[SystemUser]\r\n",
    ",[CurrentUser]\r\n",
    ",[OriginalUser]\r\n",
    "FROM [TAO3].[SchemaChange]\";\r\n",
    "string queueName = \"MyQueue\";\r\n",
    "SqlDependency.Start(connectionString);\r\n",
    "\r\n",
    "/*\r\n",
    "ALTER DATABASE [DBNAME] SET ENABLE_BROKER WITH ROLLBACK IMMEDIATE\r\n",
    "CREATE QUEUE myQueue\r\n",
    "CREATE SERVICE myService ON QUEUE myQueue \r\n",
    "\r\n",
    "([http://schemas.microsoft.com/SQL/Notifications/PostQueryNotification])\r\n",
    "\r\n",
    "*/\r\n",
    "\r\n",
    "/*\r\n",
    "CREATE SCHEMA TAO3\r\n",
    "\r\n",
    "CREATE TABLE [TAO3].[SchemaChange]\r\n",
    "(\r\n",
    "\t[EventType] [varchar](100) NULL,\r\n",
    "\t[SchemaName] [varchar](100) NULL,\r\n",
    "\t[ObjectName] [varchar](100) NULL,\r\n",
    "\t[ObjectType] [varchar](100) NULL,\r\n",
    "\t[EventDate] [datetime] NULL,\r\n",
    "\t[SystemUser] [varchar](100) NULL,\r\n",
    "\t[CurrentUser] [varchar](100) NULL,\r\n",
    "\t[OriginalUser] [varchar](100) NULL\r\n",
    ")\r\n",
    "GO\r\n",
    "CREATE TRIGGER TAO3_SchemaChanged_Trigger\r\n",
    "ON DATABASE\r\n",
    "FOR DDL_DATABASE_LEVEL_EVENTS\r\n",
    "AS\r\n",
    "set nocount on\r\n",
    "declare @EventType varchar(100)\r\n",
    "declare @SchemaName varchar(100)\r\n",
    "declare @ObjectName varchar(100)\r\n",
    "declare @ObjectType varchar(100)\r\n",
    "SELECT \r\n",
    " @EventType = EVENTDATA().value('(/EVENT_INSTANCE/EventType)[1]','nvarchar(max)')  \r\n",
    ",@SchemaName = EVENTDATA().value('(/EVENT_INSTANCE/SchemaName)[1]','nvarchar(max)')  \r\n",
    ",@ObjectName = EVENTDATA().value('(/EVENT_INSTANCE/ObjectName)[1]','nvarchar(max)')\r\n",
    ",@ObjectType = EVENTDATA().value('(/EVENT_INSTANCE/ObjectType)[1]','nvarchar(max)')   \r\n",
    "-- Is the default schema used \r\n",
    "if @SchemaName = ' ' select @SchemaName = default_schema_name from sys.sysusers u join sys.database_principals p \r\n",
    "                        on u.uid = p.principal_id  where u.name = CURRENT_USER\r\n",
    "insert into [TAO3].[SchemaChange] \r\n",
    "      select @EventType, @SchemaName, @ObjectName, @ObjectType, getdate(), SUSER_SNAME(), CURRENT_USER, ORIGINAL_LOGIN()  \r\n",
    "*/"
   ]
  },
  {
   "cell_type": "code",
   "execution_count": null,
   "metadata": {
    "dotnet_interactive": {
     "language": "csharp"
    }
   },
   "outputs": [],
   "source": [
    "AddNotification();\r\n",
    "\r\n",
    "void AddNotification()\r\n",
    "{\r\n",
    "    using (SqlConnection connection = new SqlConnection(connectionString))\r\n",
    "    {\r\n",
    "        connection.Open();\r\n",
    "        using (SqlCommand command = new SqlCommand(schemaQuery, connection))\r\n",
    "        {\r\n",
    "            SqlDependency dependency = new SqlDependency(command);\r\n",
    "        \r\n",
    "            dependency.OnChange += (s, e) => \r\n",
    "            {\r\n",
    "                Toast.Notify(e.Source.ToString(), e.Info.ToString(), DateTimeOffset.Now);\r\n",
    "                if (e.Info != SqlNotificationInfo.Invalid)\r\n",
    "                {\r\n",
    "                    AddNotification();\r\n",
    "                }\r\n",
    "                \r\n",
    "            };\r\n",
    "    \r\n",
    "            //command.Connection.Open();\r\n",
    "            command.ExecuteNonQuery();\r\n",
    "        }\r\n",
    "    }\r\n",
    "}"
   ]
  },
  {
   "cell_type": "code",
   "execution_count": null,
   "metadata": {
    "dotnet_interactive": {
     "language": "csharp"
    }
   },
   "outputs": [],
   "source": [
    "SqlDependency.Stop(connectionString);"
   ]
  },
  {
   "cell_type": "code",
   "execution_count": null,
   "metadata": {
    "dotnet_interactive": {
     "language": "csharp"
    }
   },
   "outputs": [],
   "source": [
    "#!in notepad line temp"
   ]
  },
  {
   "cell_type": "code",
   "execution_count": null,
   "metadata": {
    "dotnet_interactive": {
     "language": "csharp"
    }
   },
   "outputs": [],
   "source": [
    "#!macro ctrl+shift+1\r\n",
    "return new { A = 4 };"
   ]
  },
  {
   "cell_type": "code",
   "execution_count": null,
   "metadata": {
    "dotnet_interactive": {
     "language": "fsharp"
    }
   },
   "outputs": [],
   "source": [
    "#!cell jsCell2\r\n",
    "\"kldjksjd\";"
   ]
  },
  {
   "cell_type": "code",
   "execution_count": null,
   "metadata": {
    "dotnet_interactive": {
     "language": "html"
    }
   },
   "outputs": [
    {
     "data": {
      "text/html": [
       "\r\n",
       "<div>Hello world3243</div>\r\n",
       "<div>Hello world3</div>"
      ]
     },
     "output_type": "unknown"
    }
   ],
   "source": [
    "#!cell jsCell\r\n",
    "<div>Hello world3243</div>\r\n",
    "<div>Hello world3</div>"
   ]
  },
  {
   "cell_type": "code",
   "execution_count": null,
   "metadata": {
    "dotnet_interactive": {
     "language": "csharp"
    }
   },
   "outputs": [
    {
     "data": {
      "text/html": [
       "\r\n",
       "<div>Hello world3243</div>\r\n",
       "<div>Hello world3</div>"
      ]
     },
     "output_type": "unknown"
    }
   ],
   "source": [
    "var jsCell = TAO3.Prelude.Services.Cells.TryGetCell(\"jsCell\");\r\n",
    "return jsCell.Result;"
   ]
  },
  {
   "cell_type": "code",
   "execution_count": null,
   "metadata": {
    "dotnet_interactive": {
     "language": "csharp"
    }
   },
   "outputs": [],
   "source": [
    "#!cell myCell\r\n",
    "var a = DateTime.Now;\r\n",
    "a.Display();\r\n",
    "return a;"
   ]
  },
  {
   "cell_type": "code",
   "execution_count": null,
   "metadata": {
    "dotnet_interactive": {
     "language": "csharp"
    }
   },
   "outputs": [],
   "source": [
    "var cell = TAO3.Prelude.Services.Cells.TryGetCell(\"myCell\");\r\n",
    "return cell.Result;"
   ]
  },
  {
   "cell_type": "code",
   "execution_count": null,
   "metadata": {
    "dotnet_interactive": {
     "language": "csharp"
    }
   },
   "outputs": [],
   "source": [
    "await cell.RunAsync();"
   ]
  },
  {
   "cell_type": "code",
   "execution_count": null,
   "metadata": {
    "dotnet_interactive": {
     "language": "csharp"
    }
   },
   "outputs": [],
   "source": [
    "return cell;"
   ]
  },
  {
   "cell_type": "code",
   "execution_count": null,
   "metadata": {
    "dotnet_interactive": {
     "language": "csharp"
    }
   },
   "outputs": [],
   "source": [
    "#!macro CTRL+SHIFT+1\r\n",
    "await cell.RunAsync();"
   ]
  },
  {
   "cell_type": "code",
   "execution_count": null,
   "metadata": {
    "dotnet_interactive": {
     "language": "csharp"
    }
   },
   "outputs": [],
   "source": [
    "#!macro CTRL+SHIFT+2\r\n",
    "return \"MIAM\";"
   ]
  }
 ],
 "metadata": {
  "kernelspec": {
   "display_name": ".NET (C#)",
   "language": "C#",
   "name": ".net-csharp"
  },
  "language_info": {
   "file_extension": ".cs",
   "mimetype": "text/x-csharp",
   "name": "C#",
   "pygments_lexer": "csharp",
   "version": "9.0"
  },
  "orig_nbformat": 2
 },
 "nbformat": 4,
 "nbformat_minor": 2
}