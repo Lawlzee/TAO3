{
 "cells": [
  {
   "cell_type": "code",
   "execution_count": null,
   "metadata": {
    "dotnet_interactive": {
     "language": "pwsh"
    }
   },
   "outputs": [
    {
     "data": {
      "text/plain": [
       "Build started 2021-06-25 2:09:26 PM.\r\n"
      ]
     },
     "output_type": "unknown"
    },
    {
     "data": {
      "text/plain": [
       "Project \"C:\\Users\\Lawlzee\\Documents\\Projects\\Lawlzee\\TAO3\\TAO3\\TAO3\\TAO3.csproj\" on node 1 (Pack target(s)).\r\n"
      ]
     },
     "output_type": "unknown"
    },
    {
     "data": {
      "text/plain": [
       "GenerateAvaloniaResources:\r\n"
      ]
     },
     "output_type": "unknown"
    },
    {
     "data": {
      "text/plain": [
       "Skipping target \"GenerateAvaloniaResources\" because all output files are up-to-date with respect to the input files.\r\n"
      ]
     },
     "output_type": "unknown"
    },
    {
     "data": {
      "text/plain": [
       "GenerateTargetFrameworkMonikerAttribute:\r\n"
      ]
     },
     "output_type": "unknown"
    },
    {
     "data": {
      "text/plain": [
       "Skipping target \"GenerateTargetFrameworkMonikerAttribute\" because all output files are up-to-date with respect to the input files.\r\n"
      ]
     },
     "output_type": "unknown"
    },
    {
     "data": {
      "text/plain": [
       "CoreGenerateAssemblyInfo:\r\n"
      ]
     },
     "output_type": "unknown"
    },
    {
     "data": {
      "text/plain": [
       "Skipping target \"CoreGenerateAssemblyInfo\" because all output files are up-to-date with respect to the input files.\r\n"
      ]
     },
     "output_type": "unknown"
    },
    {
     "data": {
      "text/plain": [
       "CoreCompile:\r\n"
      ]
     },
     "output_type": "unknown"
    },
    {
     "data": {
      "text/plain": [
       "Skipping target \"CoreCompile\" because all output files are up-to-date with respect to the input files.\r\n"
      ]
     },
     "output_type": "unknown"
    },
    {
     "data": {
      "text/plain": [
       "GenerateBuildDependencyFile:\r\n"
      ]
     },
     "output_type": "unknown"
    },
    {
     "data": {
      "text/plain": [
       "Skipping target \"GenerateBuildDependencyFile\" because all output files are up-to-date with respect to the input files.\r\n"
      ]
     },
     "output_type": "unknown"
    },
    {
     "data": {
      "text/plain": [
       "CopyFilesToOutputDirectory:\r\n"
      ]
     },
     "output_type": "unknown"
    },
    {
     "data": {
      "text/plain": [
       "  TAO3 -> C:\\Users\\Lawlzee\\Documents\\Projects\\Lawlzee\\TAO3\\TAO3\\TAO3\\bin\\Debug\\net5.0\\TAO3.dll\r\n"
      ]
     },
     "output_type": "unknown"
    },
    {
     "data": {
      "text/plain": [
       "C:\\Program Files\\dotnet\\sdk\\5.0.301\\Sdks\\NuGet.Build.Tasks.Pack\\build\\NuGet.Build.Tasks.Pack.targets(221,5): warning NU5104: A stable release of a package should not have a prerelease dependency. Either modify the version spec of dependency \"Microsoft.DotNet.Interactive [1.0.0-beta.21215.5, )\" or update the version field in the nuspec. [C:\\Users\\Lawlzee\\Documents\\Projects\\Lawlzee\\TAO3\\TAO3\\TAO3\\TAO3.csproj]\r\n"
      ]
     },
     "output_type": "unknown"
    },
    {
     "data": {
      "text/plain": [
       "  Successfully created package 'C:\\Users\\Lawlzee\\Documents\\Projects\\Lawlzee\\TAO3\\TAO3\\TAO3\\bin\\Debug\\TAO3.1.0.0.nupkg'.\r\n"
      ]
     },
     "output_type": "unknown"
    },
    {
     "data": {
      "text/plain": [
       "Done Building Project \"C:\\Users\\Lawlzee\\Documents\\Projects\\Lawlzee\\TAO3\\TAO3\\TAO3\\TAO3.csproj\" (Pack target(s)).\r\n"
      ]
     },
     "output_type": "unknown"
    },
    {
     "data": {
      "text/plain": [
       "\r\n"
      ]
     },
     "output_type": "unknown"
    },
    {
     "data": {
      "text/plain": [
       "Build succeeded.\r\n"
      ]
     },
     "output_type": "unknown"
    },
    {
     "data": {
      "text/plain": [
       "\r\n"
      ]
     },
     "output_type": "unknown"
    },
    {
     "data": {
      "text/plain": [
       "\"C:\\Users\\Lawlzee\\Documents\\Projects\\Lawlzee\\TAO3\\TAO3\\TAO3\\TAO3.csproj\" (Pack target) (1) ->\r\n"
      ]
     },
     "output_type": "unknown"
    },
    {
     "data": {
      "text/plain": [
       "(GenerateNuspec target) -> \r\n"
      ]
     },
     "output_type": "unknown"
    },
    {
     "data": {
      "text/plain": [
       "  C:\\Program Files\\dotnet\\sdk\\5.0.301\\Sdks\\NuGet.Build.Tasks.Pack\\build\\NuGet.Build.Tasks.Pack.targets(221,5): warning NU5104: A stable release of a package should not have a prerelease dependency. Either modify the version spec of dependency \"Microsoft.DotNet.Interactive [1.0.0-beta.21215.5, )\" or update the version field in the nuspec. [C:\\Users\\Lawlzee\\Documents\\Projects\\Lawlzee\\TAO3\\TAO3\\TAO3\\TAO3.csproj]\r\n"
      ]
     },
     "output_type": "unknown"
    },
    {
     "data": {
      "text/plain": [
       "\r\n"
      ]
     },
     "output_type": "unknown"
    },
    {
     "data": {
      "text/plain": [
       "    1 Warning(s)\r\n"
      ]
     },
     "output_type": "unknown"
    },
    {
     "data": {
      "text/plain": [
       "    0 Error(s)\r\n"
      ]
     },
     "output_type": "unknown"
    },
    {
     "data": {
      "text/plain": [
       "\r\n"
      ]
     },
     "output_type": "unknown"
    },
    {
     "data": {
      "text/plain": [
       "Time Elapsed 00:00:01.26\r\n"
      ]
     },
     "output_type": "unknown"
    },
    {
     "data": {
      "text/plain": [
       "Installed TAO3 1.0.0 from  with content hash yebMl9FoZdCVZKEusRDugZ64zZ2DGkXZw3QqZoKLqXRwAaLZLOby6lW9FtLhsAQ3EpjNi6s0u5AlGXqPRxpq+g==.\r\n"
      ]
     },
     "output_type": "unknown"
    },
    {
     "data": {
      "text/plain": [
       "Successfully added package 'bin\\Debug\\TAO3.1.0.0.nupkg' to feed 'bin\\Feed'.\r\n"
      ]
     },
     "output_type": "unknown"
    },
    {
     "data": {
      "text/html": [
       "<div><strong>Restore sources</strong><ul><li><span>C:\\Users\\Lawlzee\\Documents\\Projects\\Lawlzee\\TAO3\\TAO3\\TAO3\\bin\\Feed</span></li></ul></div>"
      ]
     },
     "output_type": "unknown"
    },
    {
     "data": {
      "text/plain": [
       "Installed package TAO3 version 1.0.0"
      ]
     },
     "output_type": "unknown"
    },
    {
     "data": {
      "text/markdown": [
       "Loading extensions from `TAO3.dll`"
      ]
     },
     "output_type": "unknown"
    },
    {
     "data": {
      "text/html": [
       "<script type=\"text/javascript\">\n",
       "if (typeof window.createDotnetInteractiveClient === typeof Function) {\n",
       "    window.createDotnetInteractiveClient('http://localhost:54953/').then(async function (interactive) {\n",
       "        const console = interactive.getConsole('2');\n",
       "        const notebookScope = getDotnetInteractiveScope('http://localhost:54953/');\n",
       "        try {\n",
       "\n",
       "await Object.getPrototypeOf(async function() {}).constructor(\n",
       "    \"interactive\",\n",
       "    \"console\",\n",
       "    \"notebookScope\",\n",
       "    \"interactive.registerCommandHandler({commandType: \\u0027SubmitJsCodeCommand\\u0027, handle: c =\\u003e {\\r\\n                    eval(c.command.code);\\r\\n                }});\"\n",
       ")(\n",
       "    interactive,\n",
       "    console,\n",
       "    notebookScope\n",
       ");\n",
       "\n",
       "        } catch (err) {\n",
       "            interactive.failCommand(err, '2');\n",
       "        } finally {\n",
       "            await interactive.waitForAllEventsToPublish('2');\n",
       "            await interactive.markExecutionComplete('2');\n",
       "        }\n",
       "    });\n",
       "}\n",
       "</script>"
      ]
     },
     "output_type": "unknown"
    }
   ],
   "source": [
    "C:\\Users\\Lawlzee\\Documents\\Projects\\Lawlzee\\TAO3\\TAO3\\TAO3\\build.ps1\r\n",
    "#!csharp\r\n",
    "#i C:\\Users\\Lawlzee\\Documents\\Projects\\Lawlzee\\TAO3\\TAO3\\TAO3\\bin\\Feed\r\n",
    "#r \"nuget:TAO3\"\r\n",
    "using static TAO3.Prelude;"
   ]
  },
  {
   "cell_type": "code",
   "execution_count": null,
   "metadata": {
    "dotnet_interactive": {
     "language": "csharp"
    }
   },
   "outputs": [],
   "source": [
    "#i C:\\Users\\Lawlzee\\Documents\\Projects\\Lawlzee\\TAO3\\TAO3\\TAO3\\bin\\Feed\r\n",
    "#r \"nuget:TAO3\"\r\n",
    "using static TAO3.Prelude;"
   ]
  },
  {
   "cell_type": "code",
   "execution_count": null,
   "metadata": {
    "dotnet_interactive": {
     "language": "csharp"
    }
   },
   "outputs": [],
   "source": [
    "#r nuget:System.Data.SqlClient\r\n",
    "#i C:\\Users\\Lawlzee\\Documents\\Projects\\Lawlzee\\TAO3\\TAO3\\TAO3\\bin\\Feed\r\n",
    "#r \"nuget:TAO3\"\r\n",
    "\r\n",
    "using static TAO3.Prelude;\r\n",
    "using System.Data.SqlClient;\r\n",
    "\r\n",
    "string connectionString = \"Server= localhost\\\\SQLEXPRESS; Database=TestDatabase; Integrated Security=True;\";\r\n",
    "string schemaQuery = @\"SELECT [EventType]\r\n",
    ",[SchemaName]\r\n",
    ",[ObjectName]\r\n",
    ",[ObjectType]\r\n",
    ",[EventDate]\r\n",
    ",[SystemUser]\r\n",
    ",[CurrentUser]\r\n",
    ",[OriginalUser]\r\n",
    "FROM [TAO3].[SchemaChange]\";\r\n",
    "string queueName = \"MyQueue\";\r\n",
    "SqlDependency.Start(connectionString);\r\n",
    "\r\n",
    "/*\r\n",
    "ALTER DATABASE [DBNAME] SET ENABLE_BROKER WITH ROLLBACK IMMEDIATE\r\n",
    "CREATE QUEUE myQueue\r\n",
    "CREATE SERVICE myService ON QUEUE myQueue \r\n",
    "\r\n",
    "([http://schemas.microsoft.com/SQL/Notifications/PostQueryNotification])\r\n",
    "\r\n",
    "*/\r\n",
    "\r\n",
    "/*\r\n",
    "CREATE SCHEMA TAO3\r\n",
    "\r\n",
    "CREATE TABLE [TAO3].[SchemaChange]\r\n",
    "(\r\n",
    "\t[EventType] [varchar](100) NULL,\r\n",
    "\t[SchemaName] [varchar](100) NULL,\r\n",
    "\t[ObjectName] [varchar](100) NULL,\r\n",
    "\t[ObjectType] [varchar](100) NULL,\r\n",
    "\t[EventDate] [datetime] NULL,\r\n",
    "\t[SystemUser] [varchar](100) NULL,\r\n",
    "\t[CurrentUser] [varchar](100) NULL,\r\n",
    "\t[OriginalUser] [varchar](100) NULL\r\n",
    ")\r\n",
    "GO\r\n",
    "CREATE TRIGGER TAO3_SchemaChanged_Trigger\r\n",
    "ON DATABASE\r\n",
    "FOR DDL_DATABASE_LEVEL_EVENTS\r\n",
    "AS\r\n",
    "set nocount on\r\n",
    "declare @EventType varchar(100)\r\n",
    "declare @SchemaName varchar(100)\r\n",
    "declare @ObjectName varchar(100)\r\n",
    "declare @ObjectType varchar(100)\r\n",
    "SELECT \r\n",
    " @EventType = EVENTDATA().value('(/EVENT_INSTANCE/EventType)[1]','nvarchar(max)')  \r\n",
    ",@SchemaName = EVENTDATA().value('(/EVENT_INSTANCE/SchemaName)[1]','nvarchar(max)')  \r\n",
    ",@ObjectName = EVENTDATA().value('(/EVENT_INSTANCE/ObjectName)[1]','nvarchar(max)')\r\n",
    ",@ObjectType = EVENTDATA().value('(/EVENT_INSTANCE/ObjectType)[1]','nvarchar(max)')   \r\n",
    "-- Is the default schema used \r\n",
    "if @SchemaName = ' ' select @SchemaName = default_schema_name from sys.sysusers u join sys.database_principals p \r\n",
    "                        on u.uid = p.principal_id  where u.name = CURRENT_USER\r\n",
    "insert into [TAO3].[SchemaChange] \r\n",
    "      select @EventType, @SchemaName, @ObjectName, @ObjectType, getdate(), SUSER_SNAME(), CURRENT_USER, ORIGINAL_LOGIN()  \r\n",
    "*/"
   ]
  },
  {
   "cell_type": "code",
   "execution_count": null,
   "metadata": {
    "dotnet_interactive": {
     "language": "csharp"
    }
   },
   "outputs": [],
   "source": [
    "AddNotification();\r\n",
    "\r\n",
    "void AddNotification()\r\n",
    "{\r\n",
    "    using (SqlConnection connection = new SqlConnection(connectionString))\r\n",
    "    {\r\n",
    "        connection.Open();\r\n",
    "        using (SqlCommand command = new SqlCommand(schemaQuery, connection))\r\n",
    "        {\r\n",
    "            SqlDependency dependency = new SqlDependency(command);\r\n",
    "        \r\n",
    "            dependency.OnChange += (s, e) => \r\n",
    "            {\r\n",
    "                Toast.Notify(e.Source.ToString(), e.Info.ToString(), DateTimeOffset.Now);\r\n",
    "                if (e.Info != SqlNotificationInfo.Invalid)\r\n",
    "                {\r\n",
    "                    AddNotification();\r\n",
    "                }\r\n",
    "                \r\n",
    "            };\r\n",
    "    \r\n",
    "            //command.Connection.Open();\r\n",
    "            command.ExecuteNonQuery();\r\n",
    "        }\r\n",
    "    }\r\n",
    "}"
   ]
  },
  {
   "cell_type": "code",
   "execution_count": null,
   "metadata": {
    "dotnet_interactive": {
     "language": "csharp"
    }
   },
   "outputs": [],
   "source": [
    "SqlDependency.Stop(connectionString);"
   ]
  },
  {
   "cell_type": "code",
   "execution_count": null,
   "metadata": {
    "dotnet_interactive": {
     "language": "csharp"
    }
   },
   "outputs": [],
   "source": [
    "#!cell MyCell\r\n",
    "DateTime a = DateTime.Now;\r\n",
    "return a;"
   ]
  },
  {
   "cell_type": "code",
   "execution_count": null,
   "metadata": {
    "dotnet_interactive": {
     "language": "csharp"
    }
   },
   "outputs": [],
   "source": [
    "#!run cell MyCell"
   ]
  },
  {
   "cell_type": "code",
   "execution_count": null,
   "metadata": {
    "dotnet_interactive": {
     "language": "csharp"
    }
   },
   "outputs": [],
   "source": [
    "return a;"
   ]
  },
  {
   "cell_type": "code",
   "execution_count": null,
   "metadata": {
    "dotnet_interactive": {
     "language": "csharp"
    }
   },
   "outputs": [],
   "source": [
    "#!run notebook Test1.dib"
   ]
  },
  {
   "cell_type": "code",
   "execution_count": null,
   "metadata": {
    "dotnet_interactive": {
     "language": "csharp"
    }
   },
   "outputs": [],
   "source": [
    "return CSharp;"
   ]
  },
  {
   "cell_type": "code",
   "execution_count": null,
   "metadata": {
    "dotnet_interactive": {
     "language": "csharp"
    }
   },
   "outputs": [],
   "source": [
    "#!run notebook Test2.ipynb"
   ]
  },
  {
   "cell_type": "code",
   "execution_count": null,
   "metadata": {
    "dotnet_interactive": {
     "language": "csharp"
    }
   },
   "outputs": [],
   "source": [
    "#!powershell"
   ]
  },
  {
   "cell_type": "code",
   "execution_count": null,
   "metadata": {
    "dotnet_interactive": {
     "language": "csharp"
    }
   },
   "outputs": [],
   "source": [
    "#!run file \"C:\\Users\\Lawlzee\\Desktop\\new 1.txt\" "
   ]
  },
  {
   "cell_type": "code",
   "execution_count": null,
   "metadata": {
    "dotnet_interactive": {
     "language": "csharp"
    }
   },
   "outputs": [],
   "source": [
    "return new TestClass{\r\n",
    "    A = \"D\",\r\n",
    "    B = \"kjdj\"\r\n",
    "};"
   ]
  },
  {
   "cell_type": "code",
   "execution_count": null,
   "metadata": {
    "dotnet_interactive": {
     "language": "csharp"
    }
   },
   "outputs": [],
   "source": [
    "using System.IO;\r\n",
    "return Path.GetPathRoot(\"C:\\\\\");\r\n",
    "return Path.IsPathFullyQualified(\"C:\\\\\");\r\n",
    "return Path.GetDirectoryName(\"C:\\\\\");\r\n",
    "return Path.GetPathRoot(\"C:\\\\djlkhdukj\");\r\n",
    "return Path.GetDirectoryName(\"C:\\\\\");\r\n",
    "return Directory.Exists(\"Services\");"
   ]
  },
  {
   "cell_type": "code",
   "execution_count": null,
   "metadata": {
    "dotnet_interactive": {
     "language": "csharp"
    }
   },
   "outputs": [],
   "source": [
    "return Directory.GetCurrentDirectory();"
   ]
  },
  {
   "cell_type": "code",
   "execution_count": null,
   "metadata": {
    "dotnet_interactive": {
     "language": "csharp"
    }
   },
   "outputs": [],
   "source": [
    "using System.CommandLine;\r\n",
    "using System.CommandLine.Collections;\r\n",
    "\r\n",
    "return typeof(SymbolSet)\r\n",
    "            .GetMethod(\"Remove\", System.Reflection.BindingFlags.NonPublic | System.Reflection.BindingFlags.Instance, null, new Type[] { typeof(ISymbol) }, null)\r\n",
    "            !.CreateDelegate<Action<SymbolSet, ISymbol>>();"
   ]
  },
  {
   "cell_type": "code",
   "execution_count": null,
   "metadata": {
    "dotnet_interactive": {
     "language": "csharp"
    }
   },
   "outputs": [],
   "source": [
    "#!cell MyCell\r\n",
    "return \"Hello world!2\";"
   ]
  },
  {
   "cell_type": "code",
   "execution_count": null,
   "metadata": {
    "dotnet_interactive": {
     "language": "csharp"
    }
   },
   "outputs": [],
   "source": [
    "#!run cell MyCell"
   ]
  },
  {
   "cell_type": "code",
   "execution_count": null,
   "metadata": {
    "dotnet_interactive": {
     "language": "csharp"
    }
   },
   "outputs": [],
   "source": [
    "Cells.RemoveCell(\"MyCell\");"
   ]
  },
  {
   "cell_type": "code",
   "execution_count": null,
   "metadata": {
    "dotnet_interactive": {
     "language": "csharp"
    }
   },
   "outputs": [],
   "source": [
    "#!in notepad line temp\r\n",
    "return temp;"
   ]
  },
  {
   "cell_type": "code",
   "execution_count": null,
   "metadata": {
    "dotnet_interactive": {
     "language": "csharp"
    }
   },
   "outputs": [],
   "source": [
    "InputSource.Remove(\"notepad\");"
   ]
  },
  {
   "cell_type": "code",
   "execution_count": null,
   "metadata": {
    "dotnet_interactive": {
     "language": "csharp"
    }
   },
   "outputs": [
    {
     "data": {
      "text/html": [
       "<!DOCTYPE html>\r\n",
       "                    <html>\r\n",
       "                    <head>\r\n",
       "                        <meta charset='utf-8' />\r\n",
       "                        <script type='text/javascript'>\r\n",
       "                            function __internal_cell_a8d54b41dd894b7db2fb1be974ca220d_Print(values) {\r\n",
       "                                var cell = document.getElementById(\"__internal_cell_a8d54b41dd894b7db2fb1be974ca220d\");\r\n",
       "                                cell.innerHTML = \"\";\r\n",
       "                                for (let i = 0; i < values.length; i++)\r\n",
       "                                {\r\n",
       "                                    let div = document.createElement('div');\r\n",
       "                                    div.innerHTML = values[i].trim();\r\n",
       "                                    cell.appendChild(div);\r\n",
       "                                }\r\n",
       "                            }\r\n",
       "                        </script>\r\n",
       "                    </head>\r\n",
       "                    <body>\r\n",
       "                        <div style='margin: -5px' id='__internal_cell_a8d54b41dd894b7db2fb1be974ca220d'>Macro was registered successfully. Use CTRL+SHIFT+1 to run the macro.</div>\r\n",
       "                    </body>\r\n",
       "                    </html>"
      ]
     },
     "output_type": "unknown"
    }
   ],
   "source": [
    "#!macro CTRL+SHIFT+1\r\n",
    "return \"Hello world!\";"
   ]
  },
  {
   "cell_type": "code",
   "execution_count": null,
   "metadata": {
    "dotnet_interactive": {
     "language": "csharp"
    }
   },
   "outputs": [],
   "source": [
    "#!in notepad line lines"
   ]
  },
  {
   "cell_type": "code",
   "execution_count": null,
   "metadata": {
    "dotnet_interactive": {
     "language": "csharp"
    }
   },
   "outputs": [],
   "source": [
    "#!out notepad json\r\n",
    "\r\n",
    "using System.Text.RegularExpressions;\r\n",
    "\r\n",
    "string name = null;\r\n",
    "string value = null;\r\n",
    "List<string> description = new List<string>();\r\n",
    "\r\n",
    "class Row\r\n",
    "{\r\n",
    "    public string Name {get; set;}\r\n",
    "    public string Value {get; set;}\r\n",
    "    public string Description {get; set;}\r\n",
    "}\r\n",
    "\r\n",
    "List<Row> rows = new List<Row>();\r\n",
    "\r\n",
    "string lastLine = null;\r\n",
    "\r\n",
    "foreach (string line in lines)\r\n",
    "{\r\n",
    "    if (Regex.IsMatch(line, @\"^\\d\"))\r\n",
    "    {\r\n",
    "        if (value != null)\r\n",
    "        {\r\n",
    "            rows.Add(new Row{\r\n",
    "                Name = name,\r\n",
    "                Value = value,\r\n",
    "                Description = string.Join(Environment.NewLine, description.SkipLast(1))\r\n",
    "            });\r\n",
    "\r\n",
    "            name = null;\r\n",
    "            description = new List<string>();\r\n",
    "        }\r\n",
    "\r\n",
    "        name = lastLine;\r\n",
    "        value = line;\r\n",
    "        description = new List<string>();\r\n",
    "    }\r\n",
    "    else\r\n",
    "    {\r\n",
    "        description.Add(line); \r\n",
    "    }\r\n",
    "    lastLine = line;\r\n",
    "}\r\n",
    "\r\n",
    "return rows;"
   ]
  },
  {
   "cell_type": "code",
   "execution_count": null,
   "metadata": {
    "dotnet_interactive": {
     "language": "csharp"
    }
   },
   "outputs": [],
   "source": [
    "#!out notepad line\r\n",
    "return rows.Select(row => $@\"\r\n",
    "            /// <summary>\r\n",
    "            /// {row.Description.Replace(Environment.NewLine, Environment.NewLine + \"            /// \")}\r\n",
    "            /// </summary>\r\n",
    "            {row.Name} = {row.Value},\");"
   ]
  },
  {
   "cell_type": "code",
   "execution_count": null,
   "metadata": {
    "dotnet_interactive": {
     "language": "csharp"
    }
   },
   "outputs": [
    {
     "data": {
      "text/html": [
       "<table><thead><tr><th><i>index</i></th><th>value</th></tr></thead><tbody><tr><td>0</td><td>C:\\Users\\Lawlzee\\Documents\\Projects\\Github\\dotnet-interactive\\tools</td></tr><tr><td>1</td><td>C:\\Users\\Lawlzee\\Documents\\Projects\\Github\\dotnet-interactive\\samples</td></tr><tr><td>2</td><td>C:\\Users\\Lawlzee\\Documents\\Projects\\Github\\dotnet-interactive\\src</td></tr></tbody></table>"
      ]
     },
     "output_type": "unknown"
    }
   ],
   "source": [
    "return await Clipboard.GetFilesAsync();"
   ]
  }
 ],
 "metadata": {
  "kernelspec": {
   "display_name": ".NET (C#)",
   "language": "C#",
   "name": ".net-csharp"
  },
  "language_info": {
   "file_extension": ".cs",
   "mimetype": "text/x-csharp",
   "name": "C#",
   "pygments_lexer": "csharp",
   "version": "9.0"
  },
  "orig_nbformat": 2
 },
 "nbformat": 4,
 "nbformat_minor": 2
}